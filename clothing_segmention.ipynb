{
  "nbformat": 4,
  "nbformat_minor": 0,
  "metadata": {
    "colab": {
      "provenance": [],
      "mount_file_id": "1coDe59hzVqYRCgoOhYKkV_eQjuMIaARC",
      "authorship_tag": "ABX9TyOxl9AJHAnn5lO4S+QJjU2l",
      "include_colab_link": true
    },
    "kernelspec": {
      "name": "python3",
      "display_name": "Python 3"
    },
    "language_info": {
      "name": "python"
    }
  },
  "cells": [
    {
      "cell_type": "markdown",
      "metadata": {
        "id": "view-in-github",
        "colab_type": "text"
      },
      "source": [
        "<a href=\"https://colab.research.google.com/github/9-coding/Graduation_Project/blob/main/clothing_segmention.ipynb\" target=\"_parent\"><img src=\"https://colab.research.google.com/assets/colab-badge.svg\" alt=\"Open In Colab\"/></a>"
      ]
    },
    {
      "cell_type": "code",
      "source": [
        "!pip install torch-snippets==0.499.0"
      ],
      "metadata": {
        "colab": {
          "base_uri": "https://localhost:8080/"
        },
        "id": "KzepAOJd9EC3",
        "outputId": "4599131b-6e68-425b-e192-c2d1363d1aed"
      },
      "execution_count": null,
      "outputs": [
        {
          "output_type": "stream",
          "name": "stdout",
          "text": [
            "Requirement already satisfied: torch-snippets==0.499.0 in /usr/local/lib/python3.10/dist-packages (0.499)\n",
            "Requirement already satisfied: fastcore in /usr/local/lib/python3.10/dist-packages (from torch-snippets==0.499.0) (1.5.29)\n",
            "Requirement already satisfied: matplotlib in /usr/local/lib/python3.10/dist-packages (from torch-snippets==0.499.0) (3.7.1)\n",
            "Requirement already satisfied: Pillow in /usr/local/lib/python3.10/dist-packages (from torch-snippets==0.499.0) (9.4.0)\n",
            "Requirement already satisfied: altair in /usr/local/lib/python3.10/dist-packages (from torch-snippets==0.499.0) (4.2.2)\n",
            "Requirement already satisfied: dill in /usr/local/lib/python3.10/dist-packages (from torch-snippets==0.499.0) (0.3.7)\n",
            "Requirement already satisfied: ipython in /usr/local/lib/python3.10/dist-packages (from torch-snippets==0.499.0) (7.34.0)\n",
            "Requirement already satisfied: loguru in /usr/local/lib/python3.10/dist-packages (from torch-snippets==0.499.0) (0.7.2)\n",
            "Requirement already satisfied: numpy in /usr/local/lib/python3.10/dist-packages (from torch-snippets==0.499.0) (1.23.5)\n",
            "Requirement already satisfied: pandas in /usr/local/lib/python3.10/dist-packages (from torch-snippets==0.499.0) (1.5.3)\n",
            "Requirement already satisfied: tqdm in /usr/local/lib/python3.10/dist-packages (from torch-snippets==0.499.0) (4.66.1)\n",
            "Requirement already satisfied: rich in /usr/local/lib/python3.10/dist-packages (from torch-snippets==0.499.0) (13.5.2)\n",
            "Requirement already satisfied: PyYAML in /usr/local/lib/python3.10/dist-packages (from torch-snippets==0.499.0) (6.0.1)\n",
            "Requirement already satisfied: catalogue in /usr/local/lib/python3.10/dist-packages (from torch-snippets==0.499.0) (2.0.9)\n",
            "Requirement already satisfied: pydantic in /usr/local/lib/python3.10/dist-packages (from torch-snippets==0.499.0) (1.10.12)\n",
            "Requirement already satisfied: typing in /usr/local/lib/python3.10/dist-packages (from torch-snippets==0.499.0) (3.7.4.3)\n",
            "Requirement already satisfied: srsly in /usr/local/lib/python3.10/dist-packages (from torch-snippets==0.499.0) (2.4.7)\n",
            "Requirement already satisfied: typing-extensions in /usr/local/lib/python3.10/dist-packages (from torch-snippets==0.499.0) (4.5.0)\n",
            "Requirement already satisfied: wasabi in /usr/local/lib/python3.10/dist-packages (from torch-snippets==0.499.0) (1.1.2)\n",
            "Requirement already satisfied: jsonlines in /usr/local/lib/python3.10/dist-packages (from torch-snippets==0.499.0) (4.0.0)\n",
            "Requirement already satisfied: imgaug>=0.4.0 in /usr/local/lib/python3.10/dist-packages (from torch-snippets==0.499.0) (0.4.0)\n",
            "Requirement already satisfied: six in /usr/local/lib/python3.10/dist-packages (from imgaug>=0.4.0->torch-snippets==0.499.0) (1.16.0)\n",
            "Requirement already satisfied: scipy in /usr/local/lib/python3.10/dist-packages (from imgaug>=0.4.0->torch-snippets==0.499.0) (1.11.2)\n",
            "Requirement already satisfied: scikit-image>=0.14.2 in /usr/local/lib/python3.10/dist-packages (from imgaug>=0.4.0->torch-snippets==0.499.0) (0.19.3)\n",
            "Requirement already satisfied: opencv-python in /usr/local/lib/python3.10/dist-packages (from imgaug>=0.4.0->torch-snippets==0.499.0) (4.8.0.76)\n",
            "Requirement already satisfied: imageio in /usr/local/lib/python3.10/dist-packages (from imgaug>=0.4.0->torch-snippets==0.499.0) (2.31.3)\n",
            "Requirement already satisfied: Shapely in /usr/local/lib/python3.10/dist-packages (from imgaug>=0.4.0->torch-snippets==0.499.0) (2.0.1)\n",
            "Requirement already satisfied: entrypoints in /usr/local/lib/python3.10/dist-packages (from altair->torch-snippets==0.499.0) (0.4)\n",
            "Requirement already satisfied: jinja2 in /usr/local/lib/python3.10/dist-packages (from altair->torch-snippets==0.499.0) (3.1.2)\n",
            "Requirement already satisfied: jsonschema>=3.0 in /usr/local/lib/python3.10/dist-packages (from altair->torch-snippets==0.499.0) (4.19.0)\n",
            "Requirement already satisfied: toolz in /usr/local/lib/python3.10/dist-packages (from altair->torch-snippets==0.499.0) (0.12.0)\n",
            "Requirement already satisfied: python-dateutil>=2.8.1 in /usr/local/lib/python3.10/dist-packages (from pandas->torch-snippets==0.499.0) (2.8.2)\n",
            "Requirement already satisfied: pytz>=2020.1 in /usr/local/lib/python3.10/dist-packages (from pandas->torch-snippets==0.499.0) (2023.3.post1)\n",
            "Requirement already satisfied: pip in /usr/local/lib/python3.10/dist-packages (from fastcore->torch-snippets==0.499.0) (23.1.2)\n",
            "Requirement already satisfied: packaging in /usr/local/lib/python3.10/dist-packages (from fastcore->torch-snippets==0.499.0) (23.1)\n",
            "Requirement already satisfied: setuptools>=18.5 in /usr/local/lib/python3.10/dist-packages (from ipython->torch-snippets==0.499.0) (67.7.2)\n",
            "Requirement already satisfied: jedi>=0.16 in /usr/local/lib/python3.10/dist-packages (from ipython->torch-snippets==0.499.0) (0.19.0)\n",
            "Requirement already satisfied: decorator in /usr/local/lib/python3.10/dist-packages (from ipython->torch-snippets==0.499.0) (4.4.2)\n",
            "Requirement already satisfied: pickleshare in /usr/local/lib/python3.10/dist-packages (from ipython->torch-snippets==0.499.0) (0.7.5)\n",
            "Requirement already satisfied: traitlets>=4.2 in /usr/local/lib/python3.10/dist-packages (from ipython->torch-snippets==0.499.0) (5.7.1)\n",
            "Requirement already satisfied: prompt-toolkit!=3.0.0,!=3.0.1,<3.1.0,>=2.0.0 in /usr/local/lib/python3.10/dist-packages (from ipython->torch-snippets==0.499.0) (3.0.39)\n",
            "Requirement already satisfied: pygments in /usr/local/lib/python3.10/dist-packages (from ipython->torch-snippets==0.499.0) (2.16.1)\n",
            "Requirement already satisfied: backcall in /usr/local/lib/python3.10/dist-packages (from ipython->torch-snippets==0.499.0) (0.2.0)\n",
            "Requirement already satisfied: matplotlib-inline in /usr/local/lib/python3.10/dist-packages (from ipython->torch-snippets==0.499.0) (0.1.6)\n",
            "Requirement already satisfied: pexpect>4.3 in /usr/local/lib/python3.10/dist-packages (from ipython->torch-snippets==0.499.0) (4.8.0)\n",
            "Requirement already satisfied: attrs>=19.2.0 in /usr/local/lib/python3.10/dist-packages (from jsonlines->torch-snippets==0.499.0) (23.1.0)\n",
            "Requirement already satisfied: contourpy>=1.0.1 in /usr/local/lib/python3.10/dist-packages (from matplotlib->torch-snippets==0.499.0) (1.1.0)\n",
            "Requirement already satisfied: cycler>=0.10 in /usr/local/lib/python3.10/dist-packages (from matplotlib->torch-snippets==0.499.0) (0.11.0)\n",
            "Requirement already satisfied: fonttools>=4.22.0 in /usr/local/lib/python3.10/dist-packages (from matplotlib->torch-snippets==0.499.0) (4.42.1)\n",
            "Requirement already satisfied: kiwisolver>=1.0.1 in /usr/local/lib/python3.10/dist-packages (from matplotlib->torch-snippets==0.499.0) (1.4.5)\n",
            "Requirement already satisfied: pyparsing>=2.3.1 in /usr/local/lib/python3.10/dist-packages (from matplotlib->torch-snippets==0.499.0) (3.1.1)\n",
            "Requirement already satisfied: markdown-it-py>=2.2.0 in /usr/local/lib/python3.10/dist-packages (from rich->torch-snippets==0.499.0) (3.0.0)\n",
            "Requirement already satisfied: parso<0.9.0,>=0.8.3 in /usr/local/lib/python3.10/dist-packages (from jedi>=0.16->ipython->torch-snippets==0.499.0) (0.8.3)\n",
            "Requirement already satisfied: jsonschema-specifications>=2023.03.6 in /usr/local/lib/python3.10/dist-packages (from jsonschema>=3.0->altair->torch-snippets==0.499.0) (2023.7.1)\n",
            "Requirement already satisfied: referencing>=0.28.4 in /usr/local/lib/python3.10/dist-packages (from jsonschema>=3.0->altair->torch-snippets==0.499.0) (0.30.2)\n",
            "Requirement already satisfied: rpds-py>=0.7.1 in /usr/local/lib/python3.10/dist-packages (from jsonschema>=3.0->altair->torch-snippets==0.499.0) (0.10.2)\n",
            "Requirement already satisfied: mdurl~=0.1 in /usr/local/lib/python3.10/dist-packages (from markdown-it-py>=2.2.0->rich->torch-snippets==0.499.0) (0.1.2)\n",
            "Requirement already satisfied: ptyprocess>=0.5 in /usr/local/lib/python3.10/dist-packages (from pexpect>4.3->ipython->torch-snippets==0.499.0) (0.7.0)\n",
            "Requirement already satisfied: wcwidth in /usr/local/lib/python3.10/dist-packages (from prompt-toolkit!=3.0.0,!=3.0.1,<3.1.0,>=2.0.0->ipython->torch-snippets==0.499.0) (0.2.6)\n",
            "Requirement already satisfied: networkx>=2.2 in /usr/local/lib/python3.10/dist-packages (from scikit-image>=0.14.2->imgaug>=0.4.0->torch-snippets==0.499.0) (3.1)\n",
            "Requirement already satisfied: tifffile>=2019.7.26 in /usr/local/lib/python3.10/dist-packages (from scikit-image>=0.14.2->imgaug>=0.4.0->torch-snippets==0.499.0) (2023.8.30)\n",
            "Requirement already satisfied: PyWavelets>=1.1.1 in /usr/local/lib/python3.10/dist-packages (from scikit-image>=0.14.2->imgaug>=0.4.0->torch-snippets==0.499.0) (1.4.1)\n",
            "Requirement already satisfied: MarkupSafe>=2.0 in /usr/local/lib/python3.10/dist-packages (from jinja2->altair->torch-snippets==0.499.0) (2.1.3)\n"
          ]
        }
      ]
    },
    {
      "cell_type": "code",
      "source": [
        "import numpy as np\n",
        "import pandas as pd\n",
        "import os\n",
        "import cv2\n",
        "import torch\n",
        "import torchvision\n",
        "import torch.nn.functional as F\n",
        "from torch import nn\n",
        "from torch_snippets import *\n",
        "from torchvision import transforms\n",
        "from sklearn.model_selection import train_test_split\n",
        "from google.colab.patches import cv2_imshow\n",
        "from matplotlib import pyplot as plt\n",
        "device = 'cuda' if torch.cuda.is_available() else 'cpu'\n",
        "\n",
        "\n",
        "file_path = '/content/drive/MyDrive/Colab Notebooks/graduation_project/archive'\n",
        "\n",
        "image_paths=[]\n",
        "mask_paths=[]\n",
        "train_images=[]\n",
        "train_labels = []\n",
        "test_images=[]\n",
        "test_labels = []\n",
        "train_dataset=[]\n",
        "\n",
        "\n",
        "\n",
        "for i in range(100):\n",
        "    image_paths.append(cv2.imread(file_path + '/jpeg_images/IMAGES/img_' + str(i+1).zfill(4) + '.jpeg'))\n",
        "    mask_paths.append(cv2.imread(file_path + '/jpeg_masks/MASKS/seg_' + str(i+1).zfill(4) + '.jpeg'))\n",
        "\n",
        "train_images, test_images, train_masks, test_masks = train_test_split(image_paths, mask_paths, test_size=0.2, random_state=42)\n",
        "\n",
        "tfms = transforms.Compose([\n",
        "    transforms.ToTensor(),\n",
        "    transforms.Normalize([0.485, 0.456, 0.406], [0.229, 0.224, 0.225]) # imagenet\n",
        "])\n",
        "\n",
        "class SegData(Dataset):\n",
        "    def __init__(self,images,labels):\n",
        "        self.images=images\n",
        "        self.labels=labels\n",
        "    def __len__(self):\n",
        "        return len(self.images)\n",
        "    def __getitem__(self, ix):\n",
        "        image = cv2.imread(file_path + '/jpeg_images/IMAGES/img_' + str(ix+1).zfill(4) + '.jpeg')\n",
        "        image=cv2.cvtColor(image,cv2.COLOR_BGR2RGB)\n",
        "        image = cv2.resize(image, (32,32))\n",
        "        mask = read(file_path + '/jpeg_masks/MASKS/seg_' + str(ix+1).zfill(4) + '.jpeg',1)\n",
        "        mask = cv2.resize(mask, (32,32))\n",
        "        mask=cv2.cvtColor(mask,cv2.COLOR_RGB2GRAY)\n",
        "        return image, mask\n",
        "    def choose(self): return self[randint(len(self))]\n",
        "    def collate_fn(self, batch):\n",
        "        ims, masks = list(zip(*batch))\n",
        "        ims = torch.cat([tfms(im.copy()/255.)[None] for im in ims]).float().to(device)\n",
        "        ce_masks = torch.cat([torch.Tensor(mask)[None] for mask in masks]).long().to(device)\n",
        "        return ims, ce_masks\n",
        "\n",
        "train_dataset=SegData(train_images,train_masks)\n",
        "test_dataset=SegData(test_images,test_masks)\n",
        "\n",
        "image, mask=train_dataset[0]\n",
        "\n",
        "plt.imshow(image)\n",
        "plt.figure()\n",
        "plt.imshow(mask)"
      ],
      "metadata": {
        "id": "EsnSvVYTnO72",
        "colab": {
          "base_uri": "https://localhost:8080/",
          "height": 861
        },
        "outputId": "656de52e-5b5d-49b7-edc7-3157d78ea597"
      },
      "execution_count": null,
      "outputs": [
        {
          "output_type": "execute_result",
          "data": {
            "text/plain": [
              "<matplotlib.image.AxesImage at 0x7884b19a4fd0>"
            ]
          },
          "metadata": {},
          "execution_count": 13
        },
        {
          "output_type": "display_data",
          "data": {
            "text/plain": [
              "<Figure size 640x480 with 1 Axes>"
            ],
            "image/png": "[encoded data removed]"
          },
          "metadata": {}
        },
        {
          "output_type": "display_data",
          "data": {
            "text/plain": [
              "<Figure size 640x480 with 1 Axes>"
            ],
            "image/png": "[encoded data removed]"
          },
          "metadata": {}
        }
      ]
    },
    {
      "cell_type": "code",
      "source": [
        "def conv(nin,nout,kernel_size):\n",
        "  return nn.Sequential(\n",
        "          nn.Conv2d(nin,nout, kernel_size=kernel_size,padding=\"same\"),\n",
        "          nn.BatchNorm2d(nout),\n",
        "          nn.ReLU(inplace=True))\n",
        "\n",
        "class resconv(nn.Module):\n",
        "  def __init__(self,in_features,out_features):\n",
        "    super(resconv,self).__init__()\n",
        "    self.block=nn.Sequential(\n",
        "        nn.ReflectionPad2d(1),\n",
        "        nn.Conv2d(in_features,out_features,3),\n",
        "        nn.InstanceNorm2d(out_features),\n",
        "        nn.ReLU(inplace=True),\n",
        "        nn.ReflectionPad2d(1),\n",
        "        nn.Conv2d(out_features,out_features,3),\n",
        "        nn.InstanceNorm2d(out_features),\n",
        "        nn.ReLU(inplace=True),\n",
        "\n",
        "    )\n",
        "  def forward(self,x):\n",
        "      return x+self.block(x)\n",
        "\n",
        "def up_conv(nin,nout):\n",
        "  return nn.Sequential(\n",
        "      nn.ConvTranspose2d(nin,nout,kernel_size=2,stride=2),\n",
        "      nn.InstanceNorm2d(nout),\n",
        "      nn.ReLU(),\n",
        "  )"
      ],
      "metadata": {
        "id": "qVGpk9Id5SQK"
      },
      "execution_count": null,
      "outputs": []
    },
    {
      "cell_type": "code",
      "source": [
        "class ResUnet1(nn.Module):\n",
        "  def __init__(self):\n",
        "    super().__init__()\n",
        "    self.block1=conv(3,64,(7,7))\n",
        "    self.max_pool=nn.MaxPool2d(2,stride=2)\n",
        "    self.block2=conv(64,128,(1,1))\n",
        "    self.block3=conv(128,256,(1,1))\n",
        "    self.block4=conv(256,512,(1,1))\n",
        "    self.block2_1=resconv(64,64)\n",
        "    self.block3_1=resconv(128,128)\n",
        "    self.block4_1=resconv(256,256)\n",
        "    self.block_5_1=resconv(512,512)\n",
        "    self.upconv5=up_conv(512,512)\n",
        "    self.upconv4=up_conv(512,256)\n",
        "    self.upconv3=up_conv(256,128)\n",
        "    self.upconv2=up_conv(128,64)\n",
        "    self.conv6=conv(512+512,512,kernel_size=(3,3))\n",
        "    self.conv5=conv(256+256,256,kernel_size=(3,3))\n",
        "    self.conv4=conv(128+128,128,kernel_size=(3,3))\n",
        "    self.conv3=conv(64+64,64,kernel_size=(3,3))\n",
        "    self.last_conv=nn.Conv2d(64,59,kernel_size=(1,1),padding=\"same\")\n",
        "  def forward(self,x):\n",
        "    x1=self.block1(x)\n",
        "    x2=self.max_pool(x1)\n",
        "    x3=self.block2_1(x2)\n",
        "    x4=self.block2(x3)\n",
        "    x5=self.max_pool(x4)\n",
        "    x6=self.block3_1(x5)\n",
        "    x7=self.block3(x6)\n",
        "    x8=self.max_pool(x7)\n",
        "    x9=self.block4_1(x8)\n",
        "    x10=self.block4(x9)\n",
        "    x11=self.max_pool(x10)\n",
        "    x12=self.block_5_1(x11)\n",
        "    y12=self.upconv5(x12)\n",
        "    y_out1=torch.cat([y12,x10],dim=1)\n",
        "    y_out1=self.conv6(y_out1)\n",
        "    y11=self.upconv4(y_out1)\n",
        "    y_out2=torch.cat([y11,x7],dim=1)\n",
        "    y_out2=self.conv5(y_out2)\n",
        "    y10=self.upconv3(y_out2)\n",
        "    y_out3=torch.cat([y10,x4],dim=1)\n",
        "    y_out3=self.conv4(y_out3)\n",
        "    y9=self.upconv2(y_out3)\n",
        "    y_out=torch.cat([y9,x1],dim=1)\n",
        "    y_out=self.conv3(y_out)\n",
        "    out=self.last_conv(y_out)\n",
        "    return out"
      ],
      "metadata": {
        "id": "ILQRwHVX5fLN"
      },
      "execution_count": null,
      "outputs": []
    },
    {
      "cell_type": "code",
      "source": [
        "model=ResUnet1()\n",
        "model=model.to(device)"
      ],
      "metadata": {
        "id": "LW0DzxrX5f5X"
      },
      "execution_count": null,
      "outputs": []
    },
    {
      "cell_type": "code",
      "source": [
        "ce = nn.CrossEntropyLoss()\n",
        "def UnetLoss(preds, targets):\n",
        "    ce_loss = ce(preds, targets)\n",
        "    acc = (torch.argmax(preds,1) == targets).float().mean()\n",
        "    return ce_loss, acc\n"
      ],
      "metadata": {
        "id": "Iauz2NKm5hyF"
      },
      "execution_count": null,
      "outputs": []
    },
    {
      "cell_type": "code",
      "source": [
        "criterion=UnetLoss\n",
        "optimizer=torch.optim.Adam(model.parameters(),lr=1e-3)\n",
        "scheduler=torch.optim.lr_scheduler.StepLR(optimizer,gamma=0.5,step_size=15)\n"
      ],
      "metadata": {
        "id": "Llsn1G4i5q8z"
      },
      "execution_count": null,
      "outputs": []
    },
    {
      "cell_type": "code",
      "source": [
        "train_dataloader=torch.utils.data.DataLoader(train_dataset,batch_size=8,shuffle=True,collate_fn=train_dataset.collate_fn)\n",
        "test_dataloader=torch.utils.data.DataLoader(test_dataset,batch_size=8,shuffle=False,collate_fn=test_dataset.collate_fn)"
      ],
      "metadata": {
        "id": "Vu8iqmYr5t6g"
      },
      "execution_count": null,
      "outputs": []
    },
    {
      "cell_type": "code",
      "source": [
        "image,mask=next(iter(train_dataloader))\n",
        "image.shape"
      ],
      "metadata": {
        "colab": {
          "base_uri": "https://localhost:8080/"
        },
        "id": "ME9Pi5mw5u2Q",
        "outputId": "ea87bfbc-6741-4679-a7cc-0d0cdc36dec3"
      },
      "execution_count": null,
      "outputs": [
        {
          "output_type": "execute_result",
          "data": {
            "text/plain": [
              "torch.Size([8, 3, 32, 32])"
            ]
          },
          "metadata": {},
          "execution_count": 20
        }
      ]
    },
    {
      "cell_type": "code",
      "source": [
        "def train_batch(model, data, optimizer, criterion):\n",
        "    ims, ce_masks = data\n",
        "    ims=ims\n",
        "    ce_masks=ce_masks\n",
        "    model.train()\n",
        "    _masks = model(ims)\n",
        "    optimizer.zero_grad()\n",
        "    loss, acc = criterion(_masks, ce_masks)\n",
        "    loss.backward()\n",
        "    optimizer.step()\n",
        "    return loss.item(), acc.item()\n",
        "@torch.no_grad()\n",
        "def valid_batch(model, data, criterion):\n",
        "    model.eval()\n",
        "    ims, ce_masks = data\n",
        "    ims=ims\n",
        "    ce_masks=ce_masks\n",
        "    _masks = model(ims)\n",
        "    loss, acc = criterion(_masks, ce_masks)\n",
        "    return loss.item(), acc.item()"
      ],
      "metadata": {
        "id": "GYHY9mgs51XW"
      },
      "execution_count": null,
      "outputs": []
    }
  ]
}